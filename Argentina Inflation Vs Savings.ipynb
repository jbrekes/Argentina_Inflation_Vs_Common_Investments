{
 "cells": [
  {
   "cell_type": "markdown",
   "id": "03153d14",
   "metadata": {},
   "source": [
    "# Argentina's Inflation Analysis vs. Common Investments\n",
    "\n",
    "## Introduction\n",
    "\n",
    "📈📊 In this data analysis project, we will delve into the study of inflation in Argentina and its relationship with the most common investment mechanisms in the country. The main objective is to compare the evolution of inflation in Argentina with the results obtained through the most common investments, such as **purchasing dollars and fixed-term deposits**. Additionally, we will examine the relationship between Argentine inflation and the **inflation of the US dollar** and the performance of the **S&P 500 index** as relevant global indicators.\n",
    "\n",
    "From the year 2000 to the present day, Argentina has faced significant economic challenges that have influenced the evolution of inflation. This analysis will provide valuable insights for investors, allowing them to better understand the impact of inflation on different investment strategies and gain a more comprehensive view of the Argentine financial landscape.\n",
    "\n",
    "⚠️ This analysis covers the time period from **2000 to the present day (2023).**\n"
   ]
  },
  {
   "cell_type": "markdown",
   "id": "3b6b482c",
   "metadata": {},
   "source": [
    "## The Data\n",
    "\n",
    "We collected data on the evolution of the following assets between 2005 and 2023. Depending on the asset, the data frequency is monthly or daily, although this will be adjusted at the data cleaning stage:\n",
    "\n",
    "* U.S. dollar inflation\n",
    "* Performance of the SPY (SPDR S&P 500 ETF Trust)\n",
    "* Interest rate paid by retail time deposits for 30-day deposits in Argentine pesos.\n",
    "* Evolution of the price of the U.S. dollar in Argentine pesos, both in its official version and in the so-called Dolar Blue or parallel dollar.\n",
    "\n",
    "**What is the so called \"Blue\" dollar in Argentina?**\n",
    "\n",
    "The \"Blue\" dollar in Argentina is the unofficial exchange rate for the U.S. dollar, determined in the informal market. It operates outside official controls, reflecting supply and demand dynamics. \n",
    "\n",
    "Currency controls imposed by the Argentine government create the Dolar Blue market, aiming to manage reserves and stabilize the official exchange rate. Discrepancies between official and informal rates drive the emergence of the Dolar Blue as an alternative currency exchange channel."
   ]
  },
  {
   "cell_type": "markdown",
   "id": "e1143b83",
   "metadata": {},
   "source": [
    "## Libraries and Dependencies"
   ]
  },
  {
   "cell_type": "code",
   "execution_count": 55,
   "id": "21b406ab",
   "metadata": {},
   "outputs": [],
   "source": [
    "import pandas as pd"
   ]
  },
  {
   "cell_type": "markdown",
   "id": "5b1107df",
   "metadata": {},
   "source": [
    "## Stemp 1: Data Cleaning\n",
    "\n",
    "The information for the analysis was obtained from different sources and is presented in different formats. It is necessary to homogenize the data in order to continue with the analysis."
   ]
  },
  {
   "cell_type": "markdown",
   "id": "a5e8f406",
   "metadata": {},
   "source": [
    "### 1.1 Plazo Fijo (fixed-term deposits)"
   ]
  },
  {
   "cell_type": "code",
   "execution_count": 56,
   "id": "4bb77fd3",
   "metadata": {},
   "outputs": [],
   "source": [
    "pf_df = pd.read_csv('Sources/Data/Tasa Plazo Fijo.csv')"
   ]
  },
  {
   "cell_type": "code",
   "execution_count": 57,
   "id": "0e80b5c4",
   "metadata": {},
   "outputs": [
    {
     "name": "stdout",
     "output_type": "stream",
     "text": [
      "<class 'pandas.core.frame.DataFrame'>\n",
      "RangeIndex: 328 entries, 0 to 327\n",
      "Data columns (total 3 columns):\n",
      " #   Column                               Non-Null Count  Dtype  \n",
      "---  ------                               --------------  -----  \n",
      " 0   indice_tiempo                        328 non-null    object \n",
      " 1   tasas_interes_plazo_fijo_30_59_dias  328 non-null    float64\n",
      " 2   instr_bcra_tasa_politica_monetaria   88 non-null     float64\n",
      "dtypes: float64(2), object(1)\n",
      "memory usage: 7.8+ KB\n"
     ]
    }
   ],
   "source": [
    "pf_df.info()"
   ]
  },
  {
   "cell_type": "code",
   "execution_count": 58,
   "id": "15c9f4b2",
   "metadata": {},
   "outputs": [
    {
     "data": {
      "text/html": [
       "<div>\n",
       "<style scoped>\n",
       "    .dataframe tbody tr th:only-of-type {\n",
       "        vertical-align: middle;\n",
       "    }\n",
       "\n",
       "    .dataframe tbody tr th {\n",
       "        vertical-align: top;\n",
       "    }\n",
       "\n",
       "    .dataframe thead th {\n",
       "        text-align: right;\n",
       "    }\n",
       "</style>\n",
       "<table border=\"1\" class=\"dataframe\">\n",
       "  <thead>\n",
       "    <tr style=\"text-align: right;\">\n",
       "      <th></th>\n",
       "      <th>indice_tiempo</th>\n",
       "      <th>tasas_interes_plazo_fijo_30_59_dias</th>\n",
       "      <th>instr_bcra_tasa_politica_monetaria</th>\n",
       "    </tr>\n",
       "  </thead>\n",
       "  <tbody>\n",
       "    <tr>\n",
       "      <th>0</th>\n",
       "      <td>1/1/1996</td>\n",
       "      <td>8.615812</td>\n",
       "      <td>NaN</td>\n",
       "    </tr>\n",
       "    <tr>\n",
       "      <th>1</th>\n",
       "      <td>2/1/1996</td>\n",
       "      <td>7.621402</td>\n",
       "      <td>NaN</td>\n",
       "    </tr>\n",
       "    <tr>\n",
       "      <th>2</th>\n",
       "      <td>3/1/1996</td>\n",
       "      <td>7.274122</td>\n",
       "      <td>NaN</td>\n",
       "    </tr>\n",
       "    <tr>\n",
       "      <th>3</th>\n",
       "      <td>4/1/1996</td>\n",
       "      <td>7.106231</td>\n",
       "      <td>NaN</td>\n",
       "    </tr>\n",
       "    <tr>\n",
       "      <th>4</th>\n",
       "      <td>5/1/1996</td>\n",
       "      <td>6.662615</td>\n",
       "      <td>NaN</td>\n",
       "    </tr>\n",
       "    <tr>\n",
       "      <th>...</th>\n",
       "      <td>...</td>\n",
       "      <td>...</td>\n",
       "      <td>...</td>\n",
       "    </tr>\n",
       "    <tr>\n",
       "      <th>323</th>\n",
       "      <td>12/1/2022</td>\n",
       "      <td>68.751500</td>\n",
       "      <td>75.000000</td>\n",
       "    </tr>\n",
       "    <tr>\n",
       "      <th>324</th>\n",
       "      <td>1/1/2023</td>\n",
       "      <td>68.941364</td>\n",
       "      <td>75.000000</td>\n",
       "    </tr>\n",
       "    <tr>\n",
       "      <th>325</th>\n",
       "      <td>2/1/2023</td>\n",
       "      <td>69.008333</td>\n",
       "      <td>75.000000</td>\n",
       "    </tr>\n",
       "    <tr>\n",
       "      <th>326</th>\n",
       "      <td>3/1/2023</td>\n",
       "      <td>70.216818</td>\n",
       "      <td>76.500000</td>\n",
       "    </tr>\n",
       "    <tr>\n",
       "      <th>327</th>\n",
       "      <td>4/1/2023</td>\n",
       "      <td>73.589444</td>\n",
       "      <td>80.277778</td>\n",
       "    </tr>\n",
       "  </tbody>\n",
       "</table>\n",
       "<p>328 rows × 3 columns</p>\n",
       "</div>"
      ],
      "text/plain": [
       "    indice_tiempo  tasas_interes_plazo_fijo_30_59_dias  \\\n",
       "0        1/1/1996                             8.615812   \n",
       "1        2/1/1996                             7.621402   \n",
       "2        3/1/1996                             7.274122   \n",
       "3        4/1/1996                             7.106231   \n",
       "4        5/1/1996                             6.662615   \n",
       "..            ...                                  ...   \n",
       "323     12/1/2022                            68.751500   \n",
       "324      1/1/2023                            68.941364   \n",
       "325      2/1/2023                            69.008333   \n",
       "326      3/1/2023                            70.216818   \n",
       "327      4/1/2023                            73.589444   \n",
       "\n",
       "     instr_bcra_tasa_politica_monetaria  \n",
       "0                                   NaN  \n",
       "1                                   NaN  \n",
       "2                                   NaN  \n",
       "3                                   NaN  \n",
       "4                                   NaN  \n",
       "..                                  ...  \n",
       "323                           75.000000  \n",
       "324                           75.000000  \n",
       "325                           75.000000  \n",
       "326                           76.500000  \n",
       "327                           80.277778  \n",
       "\n",
       "[328 rows x 3 columns]"
      ]
     },
     "execution_count": 58,
     "metadata": {},
     "output_type": "execute_result"
    }
   ],
   "source": [
    "pf_df"
   ]
  },
  {
   "cell_type": "code",
   "execution_count": 59,
   "id": "a0814269",
   "metadata": {},
   "outputs": [],
   "source": [
    "pf_df['date'] = pd.to_datetime(pf_df.indice_tiempo, format = '%m/%d/%Y')"
   ]
  },
  {
   "cell_type": "markdown",
   "id": "a9ab56eb",
   "metadata": {},
   "source": [
    "Since 2016, the Argentine government started to intervene banks to fix the minimum interest rate they had to offer for time deposits. This was called \"monetary policy rate\" and is the value that will be taken as a reference since 2016. For values prior to that date, we will take the average value of the rate paid by the average of the banks."
   ]
  },
  {
   "cell_type": "code",
   "execution_count": 60,
   "id": "1374acf5",
   "metadata": {},
   "outputs": [],
   "source": [
    "pf_df['anual_return_rate'] = pf_df['instr_bcra_tasa_politica_monetaria'].fillna(pf_df['tasas_interes_plazo_fijo_30_59_dias']).round(2)\n",
    "pf_df['monthly_return_rate'] = pf_df['anual_return_rate'] / 12\n",
    "pf_df['monthly_return_rate'] = pf_df['monthly_return_rate'].round(4)"
   ]
  },
  {
   "cell_type": "code",
   "execution_count": 61,
   "id": "2f621c48",
   "metadata": {},
   "outputs": [
    {
     "data": {
      "text/html": [
       "<div>\n",
       "<style scoped>\n",
       "    .dataframe tbody tr th:only-of-type {\n",
       "        vertical-align: middle;\n",
       "    }\n",
       "\n",
       "    .dataframe tbody tr th {\n",
       "        vertical-align: top;\n",
       "    }\n",
       "\n",
       "    .dataframe thead th {\n",
       "        text-align: right;\n",
       "    }\n",
       "</style>\n",
       "<table border=\"1\" class=\"dataframe\">\n",
       "  <thead>\n",
       "    <tr style=\"text-align: right;\">\n",
       "      <th></th>\n",
       "      <th>date</th>\n",
       "      <th>anual_return_rate</th>\n",
       "      <th>monthly_return_rate</th>\n",
       "    </tr>\n",
       "  </thead>\n",
       "  <tbody>\n",
       "    <tr>\n",
       "      <th>0</th>\n",
       "      <td>1996-01-01</td>\n",
       "      <td>8.62</td>\n",
       "      <td>0.7183</td>\n",
       "    </tr>\n",
       "    <tr>\n",
       "      <th>1</th>\n",
       "      <td>1996-02-01</td>\n",
       "      <td>7.62</td>\n",
       "      <td>0.6350</td>\n",
       "    </tr>\n",
       "    <tr>\n",
       "      <th>2</th>\n",
       "      <td>1996-03-01</td>\n",
       "      <td>7.27</td>\n",
       "      <td>0.6058</td>\n",
       "    </tr>\n",
       "    <tr>\n",
       "      <th>3</th>\n",
       "      <td>1996-04-01</td>\n",
       "      <td>7.11</td>\n",
       "      <td>0.5925</td>\n",
       "    </tr>\n",
       "    <tr>\n",
       "      <th>4</th>\n",
       "      <td>1996-05-01</td>\n",
       "      <td>6.66</td>\n",
       "      <td>0.5550</td>\n",
       "    </tr>\n",
       "    <tr>\n",
       "      <th>...</th>\n",
       "      <td>...</td>\n",
       "      <td>...</td>\n",
       "      <td>...</td>\n",
       "    </tr>\n",
       "    <tr>\n",
       "      <th>323</th>\n",
       "      <td>2022-12-01</td>\n",
       "      <td>75.00</td>\n",
       "      <td>6.2500</td>\n",
       "    </tr>\n",
       "    <tr>\n",
       "      <th>324</th>\n",
       "      <td>2023-01-01</td>\n",
       "      <td>75.00</td>\n",
       "      <td>6.2500</td>\n",
       "    </tr>\n",
       "    <tr>\n",
       "      <th>325</th>\n",
       "      <td>2023-02-01</td>\n",
       "      <td>75.00</td>\n",
       "      <td>6.2500</td>\n",
       "    </tr>\n",
       "    <tr>\n",
       "      <th>326</th>\n",
       "      <td>2023-03-01</td>\n",
       "      <td>76.50</td>\n",
       "      <td>6.3750</td>\n",
       "    </tr>\n",
       "    <tr>\n",
       "      <th>327</th>\n",
       "      <td>2023-04-01</td>\n",
       "      <td>80.28</td>\n",
       "      <td>6.6900</td>\n",
       "    </tr>\n",
       "  </tbody>\n",
       "</table>\n",
       "<p>328 rows × 3 columns</p>\n",
       "</div>"
      ],
      "text/plain": [
       "          date  anual_return_rate  monthly_return_rate\n",
       "0   1996-01-01               8.62               0.7183\n",
       "1   1996-02-01               7.62               0.6350\n",
       "2   1996-03-01               7.27               0.6058\n",
       "3   1996-04-01               7.11               0.5925\n",
       "4   1996-05-01               6.66               0.5550\n",
       "..         ...                ...                  ...\n",
       "323 2022-12-01              75.00               6.2500\n",
       "324 2023-01-01              75.00               6.2500\n",
       "325 2023-02-01              75.00               6.2500\n",
       "326 2023-03-01              76.50               6.3750\n",
       "327 2023-04-01              80.28               6.6900\n",
       "\n",
       "[328 rows x 3 columns]"
      ]
     },
     "execution_count": 61,
     "metadata": {},
     "output_type": "execute_result"
    }
   ],
   "source": [
    "pf_df = pf_df.drop(['indice_tiempo', 'instr_bcra_tasa_politica_monetaria', 'tasas_interes_plazo_fijo_30_59_dias'], axis = 1)\n",
    "\n",
    "pf_df"
   ]
  }
 ],
 "metadata": {
  "kernelspec": {
   "display_name": "Python 3 (ipykernel)",
   "language": "python",
   "name": "python3"
  },
  "language_info": {
   "codemirror_mode": {
    "name": "ipython",
    "version": 3
   },
   "file_extension": ".py",
   "mimetype": "text/x-python",
   "name": "python",
   "nbconvert_exporter": "python",
   "pygments_lexer": "ipython3",
   "version": "3.10.9"
  }
 },
 "nbformat": 4,
 "nbformat_minor": 5
}
